{
 "cells": [
  {
   "cell_type": "code",
   "execution_count": 1,
   "metadata": {},
   "outputs": [
    {
     "name": "stdout",
     "output_type": "stream",
     "text": [
      "개신기초교양 : ( 15 / 15)\n",
      "\t 인성과비판적사고 : ( 3 / 3)\n",
      "\t 의사소통 : ( 3 / 3)\n",
      "\t 영어 : ( 3 / 3)\n",
      "\t 정보문해 : ( 6 / 6)\n",
      "일반교양 : ( 3 / 12)\n",
      "\t 인간과문화 : ( 0 / 3)\n",
      "\t 사회와역사 : ( 0 / 3)\n",
      "\t 자연과과학 : ( 3 / 3)\n",
      "확대교양 : ( 3 / 3)\n",
      "\t 미래융복합 : ( 0 / 0)\n",
      "\t 국제화 : ( 0 / 0)\n",
      "\t 진로와취업 : ( 3 / 3)\n",
      "\t 예술과체육 : ( 0 / 0)\n",
      "자연이공계기초과학 : ( 12 / 12)\n",
      "전공필수 : ( 0 / 34)\n",
      "\t 0.0(수강함)설계포트폴리오I\n",
      "\t 0.0(수강함)설계포트폴리오II\n",
      "\t 3.0디지털공학-> 논리회로및설계 (변경)\n",
      "\t 3.0이산수학\n",
      "\t 2.0정보처리실험-> 오픈소스기초프로젝트 (변경)\n",
      "\t 1.0설계포트폴리오III-> 미래설계구현 (변경)\n",
      "\t 2.0전자및디지털회로설계실험-> 오픈소스개발프로젝트 (변경)\n",
      "    논리회로및설계  (필요)\t 3.0컴퓨터구조\n",
      "\t 3.0데이터 구조\n",
      "\t 0.0설계포트폴리오IV-> 창업탐색 (변경)\n",
      "\t 3.0운영체제\n",
      "\t 1.0설계포트폴리오V-> 창업기획 (변경)\n",
      "    컴퓨터구조  (필요)\t 3.0마이크로프로세서\n",
      "\t 3.0디지털신호처리-> 머신러닝 (변경)\n",
      "\t 0.0설계포트폴리오VI-> 창업설계 (변경)\n",
      "\t 2.0컴퓨터공학설계-> 산학프로젝트(종합설계) (변경)\n",
      "\t 2.0캡스톤디자인I-> 캡스톤디자인 (변경)\n",
      "\t 1.0설계포트폴리오VII(폐강)\n",
      "전공선택 : ( 5 / 44)\n"
     ]
    }
   ],
   "source": [
    "import load_data\n",
    "from tools import print_type_matching_info as ptmi\n",
    "# from tools import contrast_old_and_new as con\n",
    "# from tools import Prerequisites_dictionary as prereq\n",
    "\n",
    "c = load_data.my_info(2019, \"learned.xlsx\")\n",
    "c.print_my_lec()\n",
    "\n",
    "codes = c.my_lecture[c.my_lecture[\"이수구분\"]==\"전공선택\"][\"과목코드\"].tolist()\n",
    "#c.print_my_ge_lec(\"정보문해\")\n",
    "\n",
    "#print(load_data.lecture_in_2022)\n",
    "#for lecture in load_data.lecture_in_2022:\n"
   ]
  },
  {
   "cell_type": "code",
   "execution_count": null,
   "metadata": {},
   "outputs": [],
   "source": []
  },
  {
   "cell_type": "code",
   "execution_count": null,
   "metadata": {},
   "outputs": [],
   "source": []
  }
 ],
 "metadata": {
  "interpreter": {
   "hash": "ea6d7042cb93db4bc8be5a69b26cbfd7e48eef1f556879fc2bfcfe6997ec0c28"
  },
  "kernelspec": {
   "display_name": "Python 3.10.3 64-bit",
   "language": "python",
   "name": "python3"
  },
  "language_info": {
   "codemirror_mode": {
    "name": "ipython",
    "version": 3
   },
   "file_extension": ".py",
   "mimetype": "text/x-python",
   "name": "python",
   "nbconvert_exporter": "python",
   "pygments_lexer": "ipython3",
   "version": "3.10.3"
  },
  "orig_nbformat": 4
 },
 "nbformat": 4,
 "nbformat_minor": 2
}
