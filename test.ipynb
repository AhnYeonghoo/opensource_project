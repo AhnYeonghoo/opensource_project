{
 "cells": [
  {
   "cell_type": "code",
   "execution_count": 1,
   "metadata": {},
   "outputs": [
    {
     "name": "stdout",
     "output_type": "stream",
     "text": [
      "개신기초교양 : ( 15 / 15)\n",
      "\t 인성과비판적사고 : ( 3 / 3)\n",
      "\t 의사소통 : ( 3 / 3)\n",
      "\t 영어 : ( 3 / 3)\n",
      "\t 정보문해 : ( 6 / 6)\n",
      "일반교양 : ( 15 / 9)\n",
      "\t 인간과문화 : ( 3 / 3)\n",
      "\t 사회와역사 : ( 9 / 3)\n",
      "\t 자연과과학 : ( 3 / 3)\n",
      "확대교양 : ( 3 / 3)\n",
      "\t 미래융복합 : ( 0 / 0)\n",
      "\t 국제화 : ( 0 / 0)\n",
      "\t 진로와취업 : ( 0 / 0)\n",
      "\t 예술과체육 : ( 3 / 0)\n",
      "자연이공계기초과학 : ( 6 / 6)\n",
      "전공필수 : ( 3 / 28)\n",
      "\t 2.0(수강함)창의공학설계\n",
      "\t 1.0(수강함)미래설계탐색\n",
      "\t 0.0(수강함)미래설계준비\n",
      "\t 3.0이산수학\n",
      "\t 1.0미래설계구현\n",
      "\t 3.0데이터 구조\n",
      "\t 3.0컴퓨터네트워크\n",
      "\t 0.0창업탐색\n",
      "    논리회로및설계  (필요)\t 3.0컴퓨터구조\n",
      "\t 3.0운영체제\n",
      "\t 3.0프로그래밍언어론\n",
      "\t 1.0창업기획\n",
      "\t 0.0창업설계\n",
      "\t 3.0산학프로젝트(종합설계)\n",
      "\t 2.0캡스톤디자인\n",
      "전공선택 : ( 2 / 50)\n",
      "\t창업산학초청세미나Ⅰ\n",
      "\t창업산학초청세미나Ⅱ\n",
      "\tC/C++프로그래밍\n",
      "\t선형대수학\n",
      "\t데이터베이스시스템\n",
      "\t컴퓨터비전\n",
      "\t데이터통신\n",
      "\t소프트웨어공학\n",
      "\t분산컴퓨팅시스템\n",
      "\t알고리즘\n",
      "\t마이크로프로세서\n",
      "\t정보보호\n",
      "\t응용수학\n",
      "\t오픈소스SW이해및실습\n",
      "\t전자회로및설계\n",
      "\t오픈소스기초프로젝트\n",
      "\t오토마타이론\n",
      "\t논리회로및설계\n",
      "\t오픈소스개발프로젝트\n",
      "\t오픈소스전문프로젝트\n",
      "\t인공지능\n",
      "\t머신러닝\n",
      "\t사이버물리시스템\n",
      "\t소프트웨어실전영어\n",
      "\t인공신경망\n",
      "\t자연언어처리\n",
      "\t데이터마이닝\n",
      "\t창업파일럿프로젝트(캡스톤디자인)\n",
      "\t정보‧컴퓨터교재연구및지도법\n",
      "\t정보‧컴퓨터논리및논술\n"
     ]
    }
   ],
   "source": [
    "import load_data\n",
    "from tools import print_type_matching_info as ptmi\n",
    "# from tools import contrast_old_and_new as con\n",
    "# from tools import Prerequisites_dictionary as prereq\n",
    "\n",
    "c = load_data.my_info(2022, \"learned_mc.xlsx\")\n",
    "c.print_my_lec()\n",
    "\n",
    "codes = c.my_lecture[c.my_lecture[\"이수구분\"]==\"전공선택\"][\"과목코드\"].tolist()\n",
    "#c.print_my_ge_lec(\"정보문해\")\n",
    "\n",
    "#print(load_data.lecture_in_2022)\n",
    "#for lecture in load_data.lecture_in_2022:\n"
   ]
  },
  {
   "cell_type": "code",
   "execution_count": null,
   "metadata": {},
   "outputs": [],
   "source": []
  },
  {
   "cell_type": "code",
   "execution_count": null,
   "metadata": {},
   "outputs": [],
   "source": []
  }
 ],
 "metadata": {
  "interpreter": {
   "hash": "ea6d7042cb93db4bc8be5a69b26cbfd7e48eef1f556879fc2bfcfe6997ec0c28"
  },
  "kernelspec": {
   "display_name": "Python 3.10.3 64-bit",
   "language": "python",
   "name": "python3"
  },
  "language_info": {
   "codemirror_mode": {
    "name": "ipython",
    "version": 3
   },
   "file_extension": ".py",
   "mimetype": "text/x-python",
   "name": "python",
   "nbconvert_exporter": "python",
   "pygments_lexer": "ipython3",
   "version": "3.10.3"
  },
  "orig_nbformat": 4
 },
 "nbformat": 4,
 "nbformat_minor": 2
}
