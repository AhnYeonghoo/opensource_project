{
 "cells": [
  {
   "cell_type": "code",
   "execution_count": 3,
   "metadata": {},
   "outputs": [
    {
     "name": "stdout",
     "output_type": "stream",
     "text": [
      "개신기초교양 : ( 15 / 15)\n",
      "\t 인성과비판적사고 : ( 3 / 3)\n",
      "\t 의사소통 : ( 3 / 3)\n",
      "\t 영어 : ( 3 / 3)\n",
      "\t 정보문해 : ( 6 / 6)\n",
      "일반교양 : ( 3 / 12)\n",
      "\t 인간과문화 : ( 0 / 3)\n",
      "\t 사회와역사 : ( 0 / 3)\n",
      "\t 자연과과학 : ( 3 / 3)\n",
      "확대교양 : ( 3 / 3)\n",
      "\t 미래융복합 : ( 0 / 0)\n",
      "\t 국제화 : ( 0 / 0)\n",
      "\t 진로와취업 : ( 3 / 3)\n",
      "\t 예술과체육 : ( 0 / 0)\n",
      "자연이공계기초과학 : ( 12 / 12)\n",
      "전공필수 : ( 0 / 34)\n",
      "\t 0.0(수강함)설계포트폴리오I\n",
      "\t 0.0(수강함)설계포트폴리오II\n",
      "\t 3.0디지털공학-> 논리회로및설계 (변경)\n",
      "\t 3.0이산수학\n",
      "\t 2.0정보처리실험-> 오픈소스기초프로젝트 (변경)\n",
      "\t 1.0설계포트폴리오III-> 미래설계구현 (변경)\n",
      "\t 2.0전자및디지털회로설계실험-> 오픈소스개발프로젝트 (변경)\n",
      "    논리회로및설계  (필요)\t 3.0컴퓨터구조\n",
      "\t 3.0데이터 구조\n",
      "\t 0.0설계포트폴리오IV-> 창업탐색 (변경)\n",
      "\t 3.0운영체제\n",
      "\t 1.0설계포트폴리오V-> 창업기획 (변경)\n",
      "    컴퓨터구조  (필요)\t 3.0마이크로프로세서\n",
      "\t 3.0디지털신호처리-> 머신러닝 (변경)\n",
      "\t 0.0설계포트폴리오VI-> 창업설계 (변경)\n",
      "\t 2.0컴퓨터공학설계-> 산학프로젝트(종합설계) (변경)\n",
      "\t 2.0캡스톤디자인I-> 캡스톤디자인 (변경)\n",
      "\t 1.0설계포트폴리오VII(폐강)\n",
      "전공선택 : ( 5 / 44)\n",
      "     Unnamed: 0      영역        분야    교과목번호                 교과목명   학점\n",
      "0             0  개신기초교양  인성과비판적사고   911001           역사와 비판적 사고  3.0\n",
      "1             1  개신기초교양  인성과비판적사고   911002           차이와 비판적 사고  3.0\n",
      "2             2  개신기초교양      의사소통   912001               대학 글쓰기  3.0\n",
      "3             3  개신기초교양      의사소통   912002              글쓰기와 발표  3.0\n",
      "4             4  개신기초교양        영어   913001  ACTION ENGLISH(영어Ⅱ)  3.0\n",
      "..          ...     ...       ...      ...                  ...  ...\n",
      "264         264  컴퓨터공학과      전공선택  5110141               자연언어처리  3.0\n",
      "265         265  컴퓨터공학과      전공선택  5110142               데이터마이닝  3.0\n",
      "266         266  컴퓨터공학과      전공선택  5110143    창업파일럿프로젝트(캡스톤디자인)  2.0\n",
      "267         262  컴퓨터공학과      전공선택  5110166       정보‧컴퓨터교재연구및지도법  3.0\n",
      "268         268  컴퓨터공학과      전공선택  5110167          정보‧컴퓨터논리및논술  3.0\n",
      "\n",
      "[269 rows x 6 columns]\n"
     ]
    }
   ],
   "source": [
    "import load_data\n",
    "from tools import print_type_matching_info as ptmi\n",
    "# from tools import contrast_old_and_new as con\n",
    "# from tools import Prerequisites_dictionary as prereq\n",
    "\n",
    "c = load_data.my_info(2019, \"learned.xlsx\")\n",
    "c.print_my_lec()\n",
    "\n",
    "codes = c.my_lecture[c.my_lecture[\"이수구분\"]==\"전공선택\"][\"과목코드\"].tolist()\n",
    "\n",
    "print(load_data.lecture_in_2022)\n",
    "#for lecture in load_data.lecture_in_2022:\n"
   ]
  },
  {
   "cell_type": "code",
   "execution_count": 4,
   "metadata": {},
   "outputs": [
    {
     "name": "stdout",
     "output_type": "stream",
     "text": [
      "    구분         영역      세부영역  수강년도   학기     과목코드                  과목명 학점  이수구분\n",
      "0   교양     개신기초교양  인성과비판적사고  2019  2학기  0911001           역사와 비판적 사고  3  교양선택\n",
      "1   교양     개신기초교양      의사소통  2019  1학기  0912001               대학 글쓰기  3  교양선택\n",
      "2   교양     개신기초교양        영어  2019  1학기  0913001  ACTION ENGLISH(영어Ⅱ)  3  교양선택\n",
      "3   교양     개신기초교양      정보문해  2019  1학기  0914002           기초컴퓨터프로그래밍  3  교양선택\n",
      "4   교양     개신기초교양      정보문해  2019  2학기  0914003           응용컴퓨터프로그래밍  3  교양선택\n",
      "5   교양       일반교양     자연과과학  2019  1학기  0923021             공학윤리와 역사  3  교양선택\n",
      "6   교양       확대교양     진로와취업  2019  2학기  0933008         생활 속의 창업아이디어  3  교양선택\n",
      "7   교양  자연이공계기초과학        수학  2019  1학기  0941002                  수학I  3  교양선택\n",
      "8   교양  자연이공계기초과학        수학  2019  2학기  0941003                 수학II  3  교양선택\n",
      "9   교양  자연이공계기초과학      기초과학  2019  1학기  0941006           일반물리학및실험 I  3  교양선택\n",
      "10  교양  자연이공계기초과학      기초과학  2019  2학기  0941007           일반물리학및실험II  3  교양선택\n",
      "11  전공         전공       NaN  2019  1학기  5110001               창의공학설계  2  전공선택\n",
      "12  전공         전공       NaN  2019  2학기  5110006              컴퓨터공학개론  3  전공선택\n",
      "13  전공         전공       NaN  2019  1학기  5110090             설계포트폴리오I  0  전공필수\n",
      "14  전공         전공       NaN  2019  2학기  5110091            설계포트폴리오II  0  전공필수\n"
     ]
    }
   ],
   "source": [
    "import load_my_lecture\n",
    "\n",
    "a = load_my_lecture.get_my_lecture()\n",
    "\n",
    "print(a)"
   ]
  },
  {
   "cell_type": "code",
   "execution_count": null,
   "metadata": {},
   "outputs": [],
   "source": []
  },
  {
   "cell_type": "code",
   "execution_count": null,
   "metadata": {},
   "outputs": [],
   "source": []
  }
 ],
 "metadata": {
  "interpreter": {
   "hash": "98f553117ee64db03f8c8241d5c9ea0153b567c9f87fa51df73b3f6e86eba8f5"
  },
  "kernelspec": {
   "display_name": "Python 3.10.1 64-bit",
   "language": "python",
   "name": "python3"
  },
  "language_info": {
   "codemirror_mode": {
    "name": "ipython",
    "version": 3
   },
   "file_extension": ".py",
   "mimetype": "text/x-python",
   "name": "python",
   "nbconvert_exporter": "python",
   "pygments_lexer": "ipython3",
   "version": "3.10.1"
  },
  "orig_nbformat": 4
 },
 "nbformat": 4,
 "nbformat_minor": 2
}
