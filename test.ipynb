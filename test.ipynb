{
 "cells": [
  {
   "cell_type": "code",
   "execution_count": 1,
   "metadata": {},
   "outputs": [
    {
     "ename": "KeyError",
     "evalue": "'자연이공계기초과학'",
     "output_type": "error",
     "traceback": [
      "\u001b[1;31m---------------------------------------------------------------------------\u001b[0m",
      "\u001b[1;31mKeyError\u001b[0m                                  Traceback (most recent call last)",
      "\u001b[1;32mc:\\Programming\\opensource_project\\test.ipynb Cell 1'\u001b[0m in \u001b[0;36m<cell line: 9>\u001b[1;34m()\u001b[0m\n\u001b[0;32m      <a href='vscode-notebook-cell:/c%3A/Programming/opensource_project/test.ipynb#ch0000000?line=1'>2</a>\u001b[0m \u001b[39mfrom\u001b[39;00m \u001b[39mtools\u001b[39;00m \u001b[39mimport\u001b[39;00m print_type_matching_info \u001b[39mas\u001b[39;00m ptmi\n\u001b[0;32m      <a href='vscode-notebook-cell:/c%3A/Programming/opensource_project/test.ipynb#ch0000000?line=2'>3</a>\u001b[0m \u001b[39m# from tools import contrast_old_and_new as con\u001b[39;00m\n\u001b[0;32m      <a href='vscode-notebook-cell:/c%3A/Programming/opensource_project/test.ipynb#ch0000000?line=3'>4</a>\u001b[0m \u001b[39m# from tools import Prerequisites_dictionary as prereq\u001b[39;00m\n\u001b[1;32m----> <a href='vscode-notebook-cell:/c%3A/Programming/opensource_project/test.ipynb#ch0000000?line=8'>9</a>\u001b[0m c \u001b[39m=\u001b[39m load_data\u001b[39m.\u001b[39;49mmy_info(\u001b[39m2019\u001b[39;49m, \u001b[39m\"\u001b[39;49m\u001b[39mlearned.xlsx\u001b[39;49m\u001b[39m\"\u001b[39;49m)\n\u001b[0;32m     <a href='vscode-notebook-cell:/c%3A/Programming/opensource_project/test.ipynb#ch0000000?line=9'>10</a>\u001b[0m c\u001b[39m.\u001b[39mprint_my_lec()\n",
      "File \u001b[1;32mc:\\Programming\\opensource_project\\load_data.py:17\u001b[0m, in \u001b[0;36mmy_info.__init__\u001b[1;34m(self, year, file_name)\u001b[0m\n\u001b[0;32m     <a href='file:///c%3A/Programming/opensource_project/load_data.py?line=14'>15</a>\u001b[0m \u001b[39mself\u001b[39m\u001b[39m.\u001b[39mmy_lecture \u001b[39m=\u001b[39m get_my_lecture(file_name)\n\u001b[0;32m     <a href='file:///c%3A/Programming/opensource_project/load_data.py?line=15'>16</a>\u001b[0m \u001b[39mself\u001b[39m\u001b[39m.\u001b[39mmin_GE \u001b[39m=\u001b[39m lec_field()\u001b[39m.\u001b[39mget_field(\u001b[39mself\u001b[39m\u001b[39m.\u001b[39myear)\n\u001b[1;32m---> <a href='file:///c%3A/Programming/opensource_project/load_data.py?line=16'>17</a>\u001b[0m \u001b[39mself\u001b[39m\u001b[39m.\u001b[39mmy_ge \u001b[39m=\u001b[39m \u001b[39mself\u001b[39;49m\u001b[39m.\u001b[39;49mget_my_score()\n",
      "File \u001b[1;32mc:\\Programming\\opensource_project\\load_data.py:35\u001b[0m, in \u001b[0;36mmy_info.get_my_score\u001b[1;34m(self)\u001b[0m\n\u001b[0;32m     <a href='file:///c%3A/Programming/opensource_project/load_data.py?line=32'>33</a>\u001b[0m     \u001b[39melif\u001b[39;00m(\u001b[39m\"\u001b[39m\u001b[39m자연이공게기초과학\u001b[39m\u001b[39m\"\u001b[39m\u001b[39m!=\u001b[39mfield):\n\u001b[0;32m     <a href='file:///c%3A/Programming/opensource_project/load_data.py?line=33'>34</a>\u001b[0m         specific_field \u001b[39m=\u001b[39m \u001b[39mself\u001b[39m\u001b[39m.\u001b[39mmy_lecture\u001b[39m.\u001b[39miat[i,\u001b[39m2\u001b[39m]\n\u001b[1;32m---> <a href='file:///c%3A/Programming/opensource_project/load_data.py?line=34'>35</a>\u001b[0m     \u001b[39mself\u001b[39;49m\u001b[39m.\u001b[39;49madd_score(score,field,specific_field)\n\u001b[0;32m     <a href='file:///c%3A/Programming/opensource_project/load_data.py?line=35'>36</a>\u001b[0m \u001b[39mreturn\u001b[39;00m \u001b[39mself\u001b[39m\u001b[39m.\u001b[39mmy_ge\n",
      "File \u001b[1;32mc:\\Programming\\opensource_project\\load_data.py:22\u001b[0m, in \u001b[0;36mmy_info.add_score\u001b[1;34m(self, score, field, specific_field)\u001b[0m\n\u001b[0;32m     <a href='file:///c%3A/Programming/opensource_project/load_data.py?line=19'>20</a>\u001b[0m \u001b[39mself\u001b[39m\u001b[39m.\u001b[39mmy_ge\u001b[39m.\u001b[39mfield[field] \u001b[39m+\u001b[39m\u001b[39m=\u001b[39m \u001b[39mint\u001b[39m(score)\n\u001b[0;32m     <a href='file:///c%3A/Programming/opensource_project/load_data.py?line=20'>21</a>\u001b[0m \u001b[39mif\u001b[39;00m(specific_field \u001b[39m!=\u001b[39m \u001b[39m'\u001b[39m\u001b[39m'\u001b[39m):\n\u001b[1;32m---> <a href='file:///c%3A/Programming/opensource_project/load_data.py?line=21'>22</a>\u001b[0m     \u001b[39mself\u001b[39;49m\u001b[39m.\u001b[39;49mmy_ge\u001b[39m.\u001b[39;49mspecific_field[field][specific_field] \u001b[39m+\u001b[39m\u001b[39m=\u001b[39m \u001b[39mint\u001b[39m(score)\n",
      "\u001b[1;31mKeyError\u001b[0m: '자연이공계기초과학'"
     ]
    }
   ],
   "source": [
    "import load_data\n",
    "from tools import print_type_matching_info as ptmi\n",
    "# from tools import contrast_old_and_new as con\n",
    "# from tools import Prerequisites_dictionary as prereq\n",
    "\n",
    "\n",
    "\n",
    "\n",
    "c = load_data.my_info(2019, \"learned.xlsx\")\n",
    "c.print_my_lec()\n",
    "\n"
   ]
  },
  {
   "cell_type": "code",
   "execution_count": null,
   "metadata": {},
   "outputs": [
    {
     "name": "stdout",
     "output_type": "stream",
     "text": [
      "['5110090', '설계포트폴리오I', '5110122', '미래설계탐색', '동일']\n",
      "['5110091', '설계포트폴리오II', '5110123', '미래설계준비', '동일']\n",
      "['5110006', '컴퓨터공학개론', '5110134', '인공지능', '동일']\n",
      "['5110046', '정보처리실험', '5110125', '오픈소스기초프로젝트', '동일']\n",
      "['5110092', '설계포트폴리오III', '5110121', '미래설계구현', '동일']\n",
      "['5110093', '전기전자회로', '5110124', '전자회로및설계', '동일']\n",
      "['5110003', '디지털공학', '5110128', '논리회로및설계', '동일']\n",
      "['5110094', '설계포트폴리오IV', '5110126', '창업탐색', '동일']\n",
      "['5110009', '전자및디지털회로설계실험', '5110129', '오픈소스개발프로젝트', '동일']\n",
      "['5110012', '정형문법및자동화이론', '5110127', '오토마타이론', '동일']\n",
      "['5110095', '설계포트폴리오V', '5110130', '창업기획', '동일']\n",
      "['5110096', '설계포트폴리오VI', '5110131', '창업설계', '동일']\n",
      "['5110082', '응용프로그램실험', '5110132', '오픈소스전문프로젝트', '동일']\n",
      "['5110097', '컴퓨터공학설계', '5110133', '산학프로젝트(종합설계)', '동일']\n",
      "['5110086', '캡스톤디자인I', '5110135', '캡스톤디자인', '동일']\n",
      "['5110048', '산학초청세미나I', '5100012', '창업산학초청세미나I', '동일']\n",
      "['5110088', '캡스톤디자인II', '5110165', '창업파일럿프로젝트(캡스톤디자인)', '동일']\n",
      "['5110049', '산학초청세미나II', '5100013', '창업산학초청세미나II', '동일']\n",
      "['5110110', '인공신경망개론', '5110140', '인공신경망', '동일']\n",
      "['5110023', '디지털신호처리', '5110136', '머신러닝', '동일']\n",
      "['5110103', '응용프로그래밍II', '5110145', '컴퓨터프로그래밍', '동일']\n",
      "['5110055', '회로이론', '5110147', '논리회로', '동일']\n",
      "['5110115', '알고리즘기초', '5110151', '알고리즘', '동일']\n",
      "['5110104', 'Java프로그래밍', '5110152', '객체지향프로그래밍', '동일']\n",
      "['5110071', '현장실무I', '5110157', '산학프로젝트', '동일']\n",
      "['5110076', '현장실무II', '5110162', '창업파일럿프로젝트', '동일']\n",
      "['5110112', '분산컴퓨팅', '5110159', '클라우드컴퓨팅', '동일']\n"
     ]
    }
   ],
   "source": [
    "from tools import contrast_old_and_new as condom\n",
    "\n",
    "c = condom.Old_and_new()\n",
    "l = c.get_revision_lecture()\n",
    "\n",
    "for i in l:\n",
    "    print(i)"
   ]
  },
  {
   "cell_type": "code",
   "execution_count": null,
   "metadata": {},
   "outputs": [],
   "source": []
  }
 ],
 "metadata": {
  "interpreter": {
   "hash": "5edbd50945a1cefc75bce679c58ef6d7acdc3c75b1c15aa805d153cdb73e4387"
  },
  "kernelspec": {
   "display_name": "Python 3.10.3 64-bit",
   "language": "python",
   "name": "python3"
  },
  "language_info": {
   "codemirror_mode": {
    "name": "ipython",
    "version": 3
   },
   "file_extension": ".py",
   "mimetype": "text/x-python",
   "name": "python",
   "nbconvert_exporter": "python",
   "pygments_lexer": "ipython3",
   "version": "3.10.3"
  },
  "orig_nbformat": 4
 },
 "nbformat": 4,
 "nbformat_minor": 2
}
