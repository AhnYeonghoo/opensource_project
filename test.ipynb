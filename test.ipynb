{
 "cells": [
  {
   "cell_type": "code",
   "execution_count": 4,
   "metadata": {},
   "outputs": [
    {
     "name": "stdout",
     "output_type": "stream",
     "text": [
      "개신기초교양 : ( 15 / 15)\n",
      "\t 인성과비판적사고 : ( 3 / 3)\n",
      "\t 의사소통 : ( 3 / 3)\n",
      "\t 영어 : ( 3 / 3)\n",
      "\t 정보문해 : ( 6 / 6)\n",
      "일반교양 : ( 15 / 9)\n",
      "\t 인간과문화 : ( 3 / 3)\n",
      "\t 사회와역사 : ( 9 / 3)\n",
      "\t 자연과과학 : ( 3 / 3)\n",
      "확대교양 : ( 3 / 3)\n",
      "\t 미래융복합 : ( 0 / 0)\n",
      "\t 국제화 : ( 0 / 0)\n",
      "\t 진로와취업 : ( 0 / 0)\n",
      "\t 예술과체육 : ( 3 / 0)\n",
      "자연이공계기초과학 : ( 6 / 6)\n",
      "전공필수 : ( 3 / 28)\n",
      "\t 2.0(수강함)창의공학설계\n",
      "\t 1.0(수강함)미래설계탐색\n",
      "\t 0.0(수강함)미래설계준비\n",
      "\t 3.0이산수학\n",
      "\t 1.0미래설계구현\n",
      "\t 3.0데이터 구조\n",
      "\t 3.0컴퓨터네트워크\n",
      "\t 0.0창업탐색\n",
      "    논리회로및설계  (필요)\t 3.0컴퓨터구조\n",
      "\t 3.0운영체제\n",
<<<<<<< HEAD
      "\t 3.0프로그래밍언어론\n",
      "\t 1.0창업기획\n",
      "\t 0.0창업설계\n",
      "\t 3.0산학프로젝트(종합설계)\n",
      "\t 2.0캡스톤디자인\n",
      "전공선택 : ( 2 / 50)\n"
=======
      "\t 1.0설계포트폴리오V-> 창업기획 (변경)\n",
      "    컴퓨터구조  (필요)\t 3.0마이크로프로세서\n",
      "\t 3.0디지털신호처리-> 머신러닝 (변경)\n",
      "\t 0.0설계포트폴리오VI-> 창업설계 (변경)\n",
      "\t 2.0컴퓨터공학설계-> 산학프로젝트(종합설계) (변경)\n",
      "\t 2.0캡스톤디자인I-> 캡스톤디자인 (변경)\n",
      "\t 1.0설계포트폴리오VII(폐강)\n",
      "전공선택 : ( 5 / 44)\n"
     ]
    },
    {
     "ename": "AttributeError",
     "evalue": "module 'load_data' has no attribute 'lecture_in_2022'",
     "output_type": "error",
     "traceback": [
      "\u001b[1;31m---------------------------------------------------------------------------\u001b[0m",
      "\u001b[1;31mAttributeError\u001b[0m                            Traceback (most recent call last)",
      "\u001b[1;32mc:\\Users\\Ahn_YeongHoo\\Desktop\\opensource_project\\test.ipynb Cell 1'\u001b[0m in \u001b[0;36m<cell line: 11>\u001b[1;34m()\u001b[0m\n\u001b[0;32m      <a href='vscode-notebook-cell:/c%3A/Users/Ahn_YeongHoo/Desktop/opensource_project/test.ipynb#ch0000000?line=6'>7</a>\u001b[0m c\u001b[39m.\u001b[39mprint_my_lec()\n\u001b[0;32m      <a href='vscode-notebook-cell:/c%3A/Users/Ahn_YeongHoo/Desktop/opensource_project/test.ipynb#ch0000000?line=8'>9</a>\u001b[0m codes \u001b[39m=\u001b[39m c\u001b[39m.\u001b[39mmy_lecture[c\u001b[39m.\u001b[39mmy_lecture[\u001b[39m\"\u001b[39m\u001b[39m이수구분\u001b[39m\u001b[39m\"\u001b[39m]\u001b[39m==\u001b[39m\u001b[39m\"\u001b[39m\u001b[39m전공선택\u001b[39m\u001b[39m\"\u001b[39m][\u001b[39m\"\u001b[39m\u001b[39m과목코드\u001b[39m\u001b[39m\"\u001b[39m]\u001b[39m.\u001b[39mtolist()\n\u001b[1;32m---> <a href='vscode-notebook-cell:/c%3A/Users/Ahn_YeongHoo/Desktop/opensource_project/test.ipynb#ch0000000?line=10'>11</a>\u001b[0m \u001b[39mprint\u001b[39m(load_data\u001b[39m.\u001b[39mlecture_in_2022)\n",
      "\u001b[1;31mAttributeError\u001b[0m: module 'load_data' has no attribute 'lecture_in_2022'"
>>>>>>> main
     ]
    }
   ],
   "source": [
    "import load_data\n",
    "from tools import print_type_matching_info as ptmi\n",
    "# from tools import contrast_old_and_new as con\n",
    "# from tools import Prerequisites_dictionary as prereq\n",
    "\n",
    "c = load_data.my_info(2022, \"learned_mc.xlsx\")\n",
    "c.print_my_lec()\n",
    "\n",
    "codes = c.my_lecture[c.my_lecture[\"이수구분\"]==\"전공선택\"][\"과목코드\"].tolist()\n",
    "#c.print_my_ge_lec(\"정보문해\")\n",
    "\n",
    "#print(load_data.lecture_in_2022)\n",
    "#for lecture in load_data.lecture_in_2022:\n"
   ]
  },
  {
   "cell_type": "code",
   "execution_count": null,
   "metadata": {},
   "outputs": [],
   "source": []
  },
  {
   "cell_type": "code",
   "execution_count": null,
   "metadata": {},
   "outputs": [],
   "source": []
  }
 ],
 "metadata": {
  "interpreter": {
   "hash": "ea6d7042cb93db4bc8be5a69b26cbfd7e48eef1f556879fc2bfcfe6997ec0c28"
  },
  "kernelspec": {
   "display_name": "Python 3.10.3 64-bit",
   "language": "python",
   "name": "python3"
  },
  "language_info": {
   "codemirror_mode": {
    "name": "ipython",
    "version": 3
   },
   "file_extension": ".py",
   "mimetype": "text/x-python",
   "name": "python",
   "nbconvert_exporter": "python",
   "pygments_lexer": "ipython3",
   "version": "3.10.3"
  },
  "orig_nbformat": 4
 },
 "nbformat": 4,
 "nbformat_minor": 2
}
