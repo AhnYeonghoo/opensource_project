{
 "cells": [
  {
   "cell_type": "code",
   "execution_count": 46,
   "metadata": {},
   "outputs": [],
   "source": [
    "import pandas as pd\n",
    "\n",
    "all_lecture = pd.read_excel(\"all_lecture.xlsx\",dtype=\"str\",index_col=0)\n",
    "lecture_in_2022 = pd.read_excel(\"2022lecture.xlsx\", dtype=\"str\")\n",
    "\n",
    "codes = lecture_in_2022.iloc[:,2].tolist()\n",
    "\n",
    "ls = all_lecture[(all_lecture[\"과목코드\"].isin(codes))].reset_index()\n",
    "lecture_in_2022 = pd.concat([lecture_in_2022, ls[\"학점\"]], axis=1)\n",
    "\n",
    "lecture_in_2022.to_excel(\"2022lecture.xlsx\")\n"
   ]
  },
  {
   "cell_type": "code",
   "execution_count": null,
   "metadata": {},
   "outputs": [],
   "source": []
  }
 ],
 "metadata": {
  "interpreter": {
   "hash": "5edbd50945a1cefc75bce679c58ef6d7acdc3c75b1c15aa805d153cdb73e4387"
  },
  "kernelspec": {
   "display_name": "Python 3.10.3 64-bit",
   "language": "python",
   "name": "python3"
  },
  "language_info": {
   "codemirror_mode": {
    "name": "ipython",
    "version": 3
   },
   "file_extension": ".py",
   "mimetype": "text/x-python",
   "name": "python",
   "nbconvert_exporter": "python",
   "pygments_lexer": "ipython3",
   "version": "3.10.3"
  },
  "orig_nbformat": 4
 },
 "nbformat": 4,
 "nbformat_minor": 2
}
