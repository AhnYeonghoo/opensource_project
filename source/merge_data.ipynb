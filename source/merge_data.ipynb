{
 "cells": [
  {
   "cell_type": "code",
   "execution_count": 59,
   "metadata": {},
   "outputs": [
    {
     "name": "stdout",
     "output_type": "stream",
     "text": [
      "         대학      학과   학년  일반   학기    구분     과목코드                  과목명   학점\n",
      "0        대학     NaN  전학년  일반   동시  교양선택  0911001           역사와 비판적 사고  3.0\n",
      "1        대학     NaN  전학년  일반   동시  교양선택  0911002           차이와 비판적 사고  3.0\n",
      "2        대학     NaN  전학년  일반   동시  교양선택  0912001               대학 글쓰기  3.0\n",
      "3        대학     NaN  전학년  일반   동시  교양선택  0912002              글쓰기와 발표  3.0\n",
      "4        대학     NaN  전학년  일반   동시  교양선택  0913001  ACTION ENGLISH(영어Ⅱ)  3.0\n",
      "..      ...     ...  ...  ..  ...   ...      ...                  ...  ...\n",
      "264  전자정보대학  컴퓨터공학과  4학년  일반  2학기  전공선택  5110141               자연언어처리  3.0\n",
      "265  전자정보대학  컴퓨터공학과  4학년  일반  2학기  전공선택  5110142               데이터마이닝  3.0\n",
      "266  전자정보대학  컴퓨터공학과  4학년  일반  2학기  전공선택  5110143            창업파일럿프로젝트  2.0\n",
      "267  전자정보대학  컴퓨터공학과  4학년  일반  1학기  전공선택  5110166       정보·컴퓨터교재연구및지도법  3.0\n",
      "268  전자정보대학  컴퓨터공학과  4학년  일반  2학기  전공선택  5110167          정보·컴퓨터논리및논술  3.0\n",
      "\n",
      "[269 rows x 9 columns]\n"
     ]
    }
   ],
   "source": [
    "import pandas as pd\n",
    "\n",
    "all_lecture = pd.read_excel(\"all_lecture.xlsx\",dtype=\"str\",index_col=0)\n",
    "lecture_in_2022 = pd.read_excel(\"2022lecture.xlsx\", dtype=\"str\", index_col=0)\n",
    "\n",
    "codes = lecture_in_2022.iloc[:,2].tolist()\n",
    "#print(codes)\n",
    "ls = all_lecture[(all_lecture[\"과목코드\"].isin(codes))].reset_index(drop=True)\n",
    "print(ls)\n",
    "lecture_in_2022 = pd.concat([lecture_in_2022, ls], axis=1)\n",
    "ls.to_excel(\"test.xlsx\")\n",
    "\n",
    "\n",
    "#lecture_in_2022.to_excel(\"2022lecture.xlsx\")\n"
   ]
  },
  {
   "cell_type": "code",
   "execution_count": null,
   "metadata": {},
   "outputs": [],
   "source": []
  }
 ],
 "metadata": {
  "interpreter": {
   "hash": "5edbd50945a1cefc75bce679c58ef6d7acdc3c75b1c15aa805d153cdb73e4387"
  },
  "kernelspec": {
   "display_name": "Python 3.10.3 64-bit",
   "language": "python",
   "name": "python3"
  },
  "language_info": {
   "codemirror_mode": {
    "name": "ipython",
    "version": 3
   },
   "file_extension": ".py",
   "mimetype": "text/x-python",
   "name": "python",
   "nbconvert_exporter": "python",
   "pygments_lexer": "ipython3",
   "version": "3.10.3"
  },
  "orig_nbformat": 4
 },
 "nbformat": 4,
 "nbformat_minor": 2
}
