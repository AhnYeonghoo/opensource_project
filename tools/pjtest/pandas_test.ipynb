{
 "cells": [
  {
   "cell_type": "code",
   "execution_count": 1,
   "metadata": {},
   "outputs": [],
   "source": [
    "import pandas as pd\n",
    "import numpy as np\n",
    "import os"
   ]
  },
  {
   "cell_type": "code",
   "execution_count": 6,
   "metadata": {},
   "outputs": [
    {
     "name": "stdout",
     "output_type": "stream",
     "text": [
      "c:\\Users\\bmc05\\Desktop\\pjtest\n"
     ]
    }
   ],
   "source": [
    "print(os.getcwd())"
   ]
  },
  {
   "cell_type": "code",
   "execution_count": 10,
   "metadata": {},
   "outputs": [],
   "source": [
    "df=pd.read_excel('c:/Users/bmc05/Desktop/pjtest/수동추출/2021년_1학기_OCU.xlsx',dtype=str)"
   ]
  },
  {
   "cell_type": "code",
   "execution_count": 12,
   "metadata": {},
   "outputs": [],
   "source": [
    "df.filter(['학년','이수구분','과목코드','과목명','학점','성적부여']).drop_duplicates('과목명').to_excel(excel_writer='2021_1_OCU.xlsx',index=False)"
   ]
  },
  {
   "cell_type": "code",
   "execution_count": 13,
   "metadata": {},
   "outputs": [],
   "source": [
    "df2=pd.read_excel('c:/Users/bmc05/Desktop/pjtest/수동추출/2021년_1학기_개신기초교양.xlsx',dtype=str)"
   ]
  },
  {
   "cell_type": "code",
   "execution_count": 14,
   "metadata": {},
   "outputs": [],
   "source": [
    "df2.filter(['학년','이수구분','과목코드','과목명','학점','성적부여']).drop_duplicates('과목명').to_excel(excel_writer='2021_1_개신기초교양.xlsx',index=False)"
   ]
  },
  {
   "cell_type": "code",
   "execution_count": 22,
   "metadata": {},
   "outputs": [],
   "source": [
    "df3=pd.read_excel('c:/Users/bmc05/Desktop/pjtest/수동추출/2021년_1학기_소프트웨어학과_전공.xlsx',dtype=str)"
   ]
  },
  {
   "cell_type": "code",
   "execution_count": 23,
   "metadata": {},
   "outputs": [],
   "source": [
    "df3.filter(['학년','이수구분','과목코드','과목명','학점','성적부여']).drop_duplicates('과목명').to_excel(excel_writer='2021_1_소프트웨어학과_전공.xlsx',index=False)"
   ]
  },
  {
   "cell_type": "code",
   "execution_count": 24,
   "metadata": {},
   "outputs": [],
   "source": [
    "df4=pd.read_excel('c:/Users/bmc05/Desktop/pjtest/수동추출/2021년_1학기_일반교양_사회.xlsx',dtype=str)"
   ]
  },
  {
   "cell_type": "code",
   "execution_count": 25,
   "metadata": {},
   "outputs": [],
   "source": [
    "df4.filter(['학년','이수구분','과목코드','과목명','학점','성적부여']).drop_duplicates('과목명').to_excel(excel_writer='2021_1_일반교양_사회.xlsx',index=False)"
   ]
  },
  {
   "cell_type": "code",
   "execution_count": 26,
   "metadata": {},
   "outputs": [],
   "source": [
    "df5=pd.read_excel('c:/Users/bmc05/Desktop/pjtest/수동추출/2021년_1학기_일반교양_인간.xlsx',dtype=str)"
   ]
  },
  {
   "cell_type": "code",
   "execution_count": 27,
   "metadata": {},
   "outputs": [],
   "source": [
    "df5.filter(['학년','이수구분','과목코드','과목명','학점','성적부여']).drop_duplicates('과목명').to_excel(excel_writer='2021_1_일반교양_인간.xlsx',index=False)"
   ]
  },
  {
   "cell_type": "code",
   "execution_count": 28,
   "metadata": {},
   "outputs": [],
   "source": [
    "df6=pd.read_excel('c:/Users/bmc05/Desktop/pjtest/수동추출/2021년_1학기_일반교양_자연.xlsx',dtype=str)"
   ]
  },
  {
   "cell_type": "code",
   "execution_count": 30,
   "metadata": {},
   "outputs": [],
   "source": [
    "df6.filter(['학년','이수구분','과목코드','과목명','학점','성적부여']).drop_duplicates('과목명').to_excel(excel_writer='2021_1_일반교양_자연.xlsx',index=False)"
   ]
  },
  {
   "cell_type": "code",
   "execution_count": 31,
   "metadata": {},
   "outputs": [],
   "source": [
    "df7=pd.read_excel('c:/Users/bmc05/Desktop/pjtest/수동추출/2021년_1학기_자연이공계기초과학.xlsx',dtype=str)"
   ]
  },
  {
   "cell_type": "code",
   "execution_count": 33,
   "metadata": {},
   "outputs": [],
   "source": [
    "df7.filter(['학년','이수구분','과목코드','과목명','학점','성적부여']).drop_duplicates('과목명').to_excel(excel_writer='2021_1_자연이공계기초과학.xlsx',index=False)"
   ]
  },
  {
   "cell_type": "code",
   "execution_count": 34,
   "metadata": {},
   "outputs": [],
   "source": [
    "df8=pd.read_excel('c:/Users/bmc05/Desktop/pjtest/수동추출/2021년_1학기_컴퓨터공학과_전공.xlsx',dtype=str)"
   ]
  },
  {
   "cell_type": "code",
   "execution_count": 35,
   "metadata": {},
   "outputs": [],
   "source": [
    "df8.filter(['학년','이수구분','과목코드','과목명','학점','성적부여']).drop_duplicates('과목명').to_excel(excel_writer='2021_1_컴퓨터공학과_전공.xlsx',index=False)"
   ]
  },
  {
   "cell_type": "code",
   "execution_count": 37,
   "metadata": {},
   "outputs": [],
   "source": [
    "df9=pd.read_excel('c:/Users/bmc05/Desktop/pjtest/수동추출/2021년_1학기_확대교양.xlsx',dtype=str)"
   ]
  },
  {
   "cell_type": "code",
   "execution_count": 38,
   "metadata": {},
   "outputs": [],
   "source": [
    "df9.filter(['학년','이수구분','과목코드','과목명','학점','성적부여']).drop_duplicates('과목명').to_excel(excel_writer='2021_1_확대교양.xlsx',index=False)"
   ]
  },
  {
   "cell_type": "code",
   "execution_count": 44,
   "metadata": {},
   "outputs": [],
   "source": [
    "df10=pd.read_excel('c:/Users/bmc05/Desktop/pjtest/수동추출/2021년_2학기_OCU.xlsx',dtype=str)"
   ]
  },
  {
   "cell_type": "code",
   "execution_count": 47,
   "metadata": {},
   "outputs": [],
   "source": [
    "df10.filter(['학년','이수구분','과목코드','과목명','학점','성적부여']).drop_duplicates('과목명').to_excel(excel_writer='2021_2_OCU.xlsx',index=False)"
   ]
  },
  {
   "cell_type": "code",
   "execution_count": 48,
   "metadata": {},
   "outputs": [],
   "source": [
    "dp11=pd.read_excel('c:/Users/bmc05/Desktop/pjtest/수동추출/2021년_2학기_개신기초교양.xlsx',dtype=str)"
   ]
  },
  {
   "cell_type": "code",
   "execution_count": 50,
   "metadata": {},
   "outputs": [],
   "source": [
    "dp11.filter(['학년','이수구분','과목코드','과목명','학점','성적부여']).drop_duplicates('과목명').to_excel(excel_writer='2021_2_개신기초교양.xlsx',index=False)"
   ]
  },
  {
   "cell_type": "code",
   "execution_count": 51,
   "metadata": {},
   "outputs": [],
   "source": [
    "dp12=pd.read_excel('c:/Users/bmc05/Desktop/pjtest/수동추출/2021년_2학기_소프트웨어학과_전공.xlsx',dtype=str)"
   ]
  },
  {
   "cell_type": "code",
   "execution_count": 52,
   "metadata": {},
   "outputs": [],
   "source": [
    "dp12.filter(['학년','이수구분','과목코드','과목명','학점','성적부여']).drop_duplicates('과목명').to_excel(excel_writer='2021_2_소프트웨어학과_전공.xlsx',index=False)"
   ]
  },
  {
   "cell_type": "code",
   "execution_count": 53,
   "metadata": {},
   "outputs": [],
   "source": [
    "dp13=pd.read_excel('c:/Users/bmc05/Desktop/pjtest/수동추출/2021년_2학기_일반교양_사회.xlsx',dtype=str)"
   ]
  },
  {
   "cell_type": "code",
   "execution_count": 55,
   "metadata": {},
   "outputs": [],
   "source": [
    "dp13.filter(['학년','이수구분','과목코드','과목명','학점','성적부여']).drop_duplicates('과목명').to_excel(excel_writer='2021_2_일반교양_사회.xlsx',index=False)"
   ]
  },
  {
   "cell_type": "code",
   "execution_count": 56,
   "metadata": {},
   "outputs": [],
   "source": [
    "dp14=pd.read_excel('c:/Users/bmc05/Desktop/pjtest/수동추출/2021년_2학기_일반교양_인간.xlsx',dtype=str)"
   ]
  },
  {
   "cell_type": "code",
   "execution_count": 57,
   "metadata": {},
   "outputs": [],
   "source": [
    "dp14.filter(['학년','이수구분','과목코드','과목명','학점','성적부여']).drop_duplicates('과목명').to_excel(excel_writer='2021_2_일반교양_인간.xlsx',index=False)"
   ]
  },
  {
   "cell_type": "code",
   "execution_count": 58,
   "metadata": {},
   "outputs": [],
   "source": [
    "dp15=pd.read_excel('c:/Users/bmc05/Desktop/pjtest/수동추출/2021년_2학기_일반교양_자연.xlsx',dtype=str)"
   ]
  },
  {
   "cell_type": "code",
   "execution_count": 59,
   "metadata": {},
   "outputs": [],
   "source": [
    "dp15.filter(['학년','이수구분','과목코드','과목명','학점','성적부여']).drop_duplicates('과목명').to_excel(excel_writer='2021_2_일반교양_자연.xlsx',index=False)"
   ]
  },
  {
   "cell_type": "code",
   "execution_count": 60,
   "metadata": {},
   "outputs": [],
   "source": [
    "dp16=pd.read_excel('c:/Users/bmc05/Desktop/pjtest/수동추출/2021년_2학기_자연이공계기초과학.xlsx',dtype=str)"
   ]
  },
  {
   "cell_type": "code",
   "execution_count": 61,
   "metadata": {},
   "outputs": [],
   "source": [
    "dp16.filter(['학년','이수구분','과목코드','과목명','학점','성적부여']).drop_duplicates('과목명').to_excel(excel_writer='2021_2_자연이공계기초과학.xlsx',index=False)"
   ]
  },
  {
   "cell_type": "code",
   "execution_count": 62,
   "metadata": {},
   "outputs": [],
   "source": [
    "dp17=pd.read_excel('c:/Users/bmc05/Desktop/pjtest/수동추출/2021년_2학기_컴퓨터공학과_전공.xlsx',dtype=str)"
   ]
  },
  {
   "cell_type": "code",
   "execution_count": 63,
   "metadata": {},
   "outputs": [],
   "source": [
    "dp17.filter(['학년','이수구분','과목코드','과목명','학점','성적부여']).drop_duplicates('과목명').to_excel(excel_writer='2021_2_컴퓨터공학과_전공.xlsx',index=False)"
   ]
  },
  {
   "cell_type": "code",
   "execution_count": 64,
   "metadata": {},
   "outputs": [],
   "source": [
    "dp18=pd.read_excel('c:/Users/bmc05/Desktop/pjtest/수동추출/2021년_2학기_확대교양.xlsx',dtype=str)"
   ]
  },
  {
   "cell_type": "code",
   "execution_count": 65,
   "metadata": {},
   "outputs": [],
   "source": [
    "dp18.filter(['학년','이수구분','과목코드','과목명','학점','성적부여']).drop_duplicates('과목명').to_excel(excel_writer='2021_2_확대교양.xlsx',index=False)"
   ]
  },
  {
   "cell_type": "code",
   "execution_count": 66,
   "metadata": {},
   "outputs": [],
   "source": [
    "dp19=pd.read_excel('c:/Users/bmc05/Desktop/pjtest/수동추출/2021년_겨울_OCU.xlsx',dtype=str)"
   ]
  },
  {
   "cell_type": "code",
   "execution_count": 68,
   "metadata": {},
   "outputs": [],
   "source": [
    "dp19.filter(['학년','이수구분','과목코드','과목명','학점','성적부여']).drop_duplicates('과목명').to_excel(excel_writer='2021_w_OCU.xlsx',index=False)"
   ]
  },
  {
   "cell_type": "code",
   "execution_count": 69,
   "metadata": {},
   "outputs": [],
   "source": [
    "dp20=pd.read_excel('c:/Users/bmc05/Desktop/pjtest/수동추출/2021년_겨울_개신기초교양.xlsx',dtype=str)"
   ]
  },
  {
   "cell_type": "code",
   "execution_count": 70,
   "metadata": {},
   "outputs": [],
   "source": [
    "dp20.filter(['학년','이수구분','과목코드','과목명','학점','성적부여']).drop_duplicates('과목명').to_excel(excel_writer='2021_w_개신기초교양.xlsx',index=False)"
   ]
  },
  {
   "cell_type": "code",
   "execution_count": 71,
   "metadata": {},
   "outputs": [],
   "source": [
    "dp21=pd.read_excel('c:/Users/bmc05/Desktop/pjtest/수동추출/2021년_겨울_일반교양_사회.xlsx',dtype=str)"
   ]
  },
  {
   "cell_type": "code",
   "execution_count": 72,
   "metadata": {},
   "outputs": [],
   "source": [
    "dp21.filter(['학년','이수구분','과목코드','과목명','학점','성적부여']).drop_duplicates('과목명').to_excel(excel_writer='2021_w_일반교양_사회.xlsx',index=False)"
   ]
  },
  {
   "cell_type": "code",
   "execution_count": 73,
   "metadata": {},
   "outputs": [],
   "source": [
    "dp22=pd.read_excel('c:/Users/bmc05/Desktop/pjtest/수동추출/2021년_겨울_일반교양_인간.xlsx',dtype=str)"
   ]
  },
  {
   "cell_type": "code",
   "execution_count": 74,
   "metadata": {},
   "outputs": [],
   "source": [
    "dp22.filter(['학년','이수구분','과목코드','과목명','학점','성적부여']).drop_duplicates('과목명').to_excel(excel_writer='2021_w_일반교양_인간.xlsx',index=False)"
   ]
  },
  {
   "cell_type": "code",
   "execution_count": 79,
   "metadata": {},
   "outputs": [],
   "source": [
    "dp23=pd.read_excel('c:/Users/bmc05/Desktop/pjtest/수동추출/2021년_겨울_자연이공계기초과학.xlsx',dtype=str)"
   ]
  },
  {
   "cell_type": "code",
   "execution_count": 81,
   "metadata": {},
   "outputs": [],
   "source": [
    "dp23.filter(['학년','이수구분','과목코드','과목명','학점','성적부여']).drop_duplicates('과목명').to_excel(excel_writer='2021_w_자연이공계기초과학.xlsx',index=False)"
   ]
  },
  {
   "cell_type": "code",
   "execution_count": 82,
   "metadata": {},
   "outputs": [],
   "source": [
    "dp24=pd.read_excel('c:/Users/bmc05/Desktop/pjtest/수동추출/2021년_겨울_확대교양.xlsx',dtype=str)"
   ]
  },
  {
   "cell_type": "code",
   "execution_count": 83,
   "metadata": {},
   "outputs": [],
   "source": [
    "dp24.filter(['학년','이수구분','과목코드','과목명','학점','성적부여']).drop_duplicates('과목명').to_excel(excel_writer='2021_w_확대교양.xlsx',index=False)"
   ]
  },
  {
   "cell_type": "code",
   "execution_count": 84,
   "metadata": {},
   "outputs": [],
   "source": [
    "dp25=pd.read_excel('c:/Users/bmc05/Desktop/pjtest/수동추출/2021년_여름_OCU.xlsx',dtype=str)"
   ]
  },
  {
   "cell_type": "code",
   "execution_count": 85,
   "metadata": {},
   "outputs": [],
   "source": [
    "dp25.filter(['학년','이수구분','과목코드','과목명','학점','성적부여']).drop_duplicates('과목명').to_excel(excel_writer='2021_s_OCU.xlsx',index=False)"
   ]
  },
  {
   "cell_type": "code",
   "execution_count": 86,
   "metadata": {},
   "outputs": [],
   "source": [
    "dp26=pd.read_excel('c:/Users/bmc05/Desktop/pjtest/수동추출/2021년_여름_개신기초교양.xlsx',dtype=str)"
   ]
  },
  {
   "cell_type": "code",
   "execution_count": 87,
   "metadata": {},
   "outputs": [],
   "source": [
    "dp26.filter(['학년','이수구분','과목코드','과목명','학점','성적부여']).drop_duplicates('과목명').to_excel(excel_writer='2021_s_개신기초교양.xlsx',index=False)"
   ]
  },
  {
   "cell_type": "code",
   "execution_count": 88,
   "metadata": {},
   "outputs": [],
   "source": [
    "dp27=pd.read_excel('c:/Users/bmc05/Desktop/pjtest/수동추출/2021년_여름_일반교양_사회.xlsx',dtype=str)"
   ]
  },
  {
   "cell_type": "code",
   "execution_count": 89,
   "metadata": {},
   "outputs": [],
   "source": [
    "dp27.filter(['학년','이수구분','과목코드','과목명','학점','성적부여']).drop_duplicates('과목명').to_excel(excel_writer='2021_s_일반교양_사회.xlsx',index=False)"
   ]
  },
  {
   "cell_type": "code",
   "execution_count": 90,
   "metadata": {},
   "outputs": [],
   "source": [
    "dp28=pd.read_excel('c:/Users/bmc05/Desktop/pjtest/수동추출/2021년_여름_일반교양_인간.xlsx',dtype=str)"
   ]
  },
  {
   "cell_type": "code",
   "execution_count": 91,
   "metadata": {},
   "outputs": [],
   "source": [
    "dp28.filter(['학년','이수구분','과목코드','과목명','학점','성적부여']).drop_duplicates('과목명').to_excel(excel_writer='2021_s_일반교양_인간.xlsx',index=False)"
   ]
  },
  {
   "cell_type": "code",
   "execution_count": 92,
   "metadata": {},
   "outputs": [],
   "source": [
    "dp29=pd.read_excel('c:/Users/bmc05/Desktop/pjtest/수동추출/2021년_여름_일반교양_자연.xlsx',dtype=str)"
   ]
  },
  {
   "cell_type": "code",
   "execution_count": 94,
   "metadata": {},
   "outputs": [],
   "source": [
    "dp29.filter(['학년','이수구분','과목코드','과목명','학점','성적부여']).drop_duplicates('과목명').to_excel(excel_writer='2021_s_일반교양_자연.xlsx',index=False)"
   ]
  },
  {
   "cell_type": "code",
   "execution_count": 95,
   "metadata": {},
   "outputs": [],
   "source": [
    "dp30=pd.read_excel('c:/Users/bmc05/Desktop/pjtest/수동추출/2021년_여름_자연이공계기초과학.xlsx',dtype=str)"
   ]
  },
  {
   "cell_type": "code",
   "execution_count": 96,
   "metadata": {},
   "outputs": [],
   "source": [
    "dp30.filter(['학년','이수구분','과목코드','과목명','학점','성적부여']).drop_duplicates('과목명').to_excel(excel_writer='2021_s_자연이공계기초과학.xlsx',index=False)"
   ]
  },
  {
   "cell_type": "code",
   "execution_count": 97,
   "metadata": {},
   "outputs": [],
   "source": [
    "dp31=pd.read_excel('c:/Users/bmc05/Desktop/pjtest/수동추출/2021년_여름_확대교양.xlsx',dtype=str)"
   ]
  },
  {
   "cell_type": "code",
   "execution_count": 99,
   "metadata": {},
   "outputs": [],
   "source": [
    "dp31.filter(['학년','이수구분','과목코드','과목명','학점','성적부여']).drop_duplicates('과목명').to_excel(excel_writer='2021_s_확대교양.xlsx',index=False)"
   ]
  },
  {
   "cell_type": "code",
   "execution_count": null,
   "metadata": {},
   "outputs": [],
   "source": []
  }
 ],
 "metadata": {
  "interpreter": {
   "hash": "c2bd30a1077b7843d7393f5d5f9e89e35848d982d023c0d82f28efa39ba842f6"
  },
  "kernelspec": {
   "display_name": "Python 3.9.7 64-bit",
   "language": "python",
   "name": "python3"
  },
  "language_info": {
   "codemirror_mode": {
    "name": "ipython",
    "version": 3
   },
   "file_extension": ".py",
   "mimetype": "text/x-python",
   "name": "python",
   "nbconvert_exporter": "python",
   "pygments_lexer": "ipython3",
   "version": "3.9.7"
  },
  "orig_nbformat": 4
 },
 "nbformat": 4,
 "nbformat_minor": 2
}
