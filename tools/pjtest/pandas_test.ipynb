{
 "cells": [
  {
   "cell_type": "code",
   "execution_count": 7,
   "metadata": {},
   "outputs": [],
   "source": []
  },
  {
   "cell_type": "code",
   "execution_count": 16,
   "metadata": {},
   "outputs": [
    {
     "name": "stdout",
     "output_type": "stream",
     "text": [
      "c:\\Programming\\opensource_project\\tools\\pjtest\n"
     ]
    }
   ],
   "source": [
    "os.makedirs(\"./output/\")\n",
    "lecture_list = os.listdir(file_path)\n",
    "\n",
    "for lec in lecture_list:\n",
    "    df = pd.read_excel(file_path+lec,dtype=str)\n",
    "    df.filter(['학년','이수구분','과목코드','과목명','학점','성적부여']).drop_duplicates('과목명').to_excel(excel_writer=out_path+lec,index=False)"
   ]
  },
  {
   "cell_type": "code",
   "execution_count": null,
   "metadata": {},
   "outputs": [],
   "source": []
  }
 ],
 "metadata": {
  "interpreter": {
   "hash": "c2bd30a1077b7843d7393f5d5f9e89e35848d982d023c0d82f28efa39ba842f6"
  },
  "kernelspec": {
   "display_name": "Python 3.9.7 64-bit",
   "language": "python",
   "name": "python3"
  },
  "language_info": {
   "codemirror_mode": {
    "name": "ipython",
    "version": 3
   },
   "file_extension": ".py",
   "mimetype": "text/x-python",
   "name": "python",
   "nbconvert_exporter": "python",
   "pygments_lexer": "ipython3",
   "version": "3.10.3"
  },
  "orig_nbformat": 4
 },
 "nbformat": 4,
 "nbformat_minor": 2
}
