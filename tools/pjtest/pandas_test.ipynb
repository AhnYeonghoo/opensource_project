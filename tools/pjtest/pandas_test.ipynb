{
 "cells": [],
 "metadata": {
  "interpreter": {
   "hash": "c2bd30a1077b7843d7393f5d5f9e89e35848d982d023c0d82f28efa39ba842f6"
  },
  "kernelspec": {
   "display_name": "Python 3.9.7 64-bit",
   "language": "python",
   "name": "python3"
  },
  "language_info": {
   "codemirror_mode": {
    "name": "ipython",
    "version": 3
   },
   "file_extension": ".py",
   "mimetype": "text/x-python",
   "name": "python",
   "nbconvert_exporter": "python",
   "pygments_lexer": "ipython3",
   "version": "3.10.3"
  },
  "orig_nbformat": 4
 },
 "nbformat": 4,
 "nbformat_minor": 2
}
