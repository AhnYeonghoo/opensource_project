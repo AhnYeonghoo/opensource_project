{
 "cells": [
  {
   "cell_type": "code",
   "execution_count": 37,
   "metadata": {},
   "outputs": [
    {
     "name": "stdout",
     "output_type": "stream",
     "text": [
      "15.0\n"
     ]
    }
   ],
   "source": [
    "import pandas as pd\n",
    "from os.path import join\n",
    "\n",
    "path_file2 = join('..','..','source','all_lecture.xlsx') # 상대경로 조합\n",
    "\n",
    "data2=pd.read_excel(path_file2, dtype=str) \n",
    "# 엑셀 파일 읽기, 과목코드가 0부터 시작하므로 문자열로 읽어야함\n",
    "\n",
    "df_list2=data2.values.tolist() # 리스트화\n",
    "\n",
    "def get_grade(lecture_code): # 과목코드에 따른 학점 불러오기\n",
    "    grade=''\n",
    "    for i in range(len(df_list2)-1):\n",
    "        if lecture_code in df_list2[i]:\n",
    "            grade=df_list2[i]\n",
    "    return grade[9]  # str 타입\n",
    "\n",
    "print(get_grade('0281023'))"
   ]
  },
  {
   "cell_type": "code",
   "execution_count": null,
   "metadata": {},
   "outputs": [],
   "source": []
  },
  {
   "cell_type": "code",
   "execution_count": null,
   "metadata": {},
   "outputs": [],
   "source": []
  }
 ],
 "metadata": {
  "interpreter": {
   "hash": "ef645a08914cffa3b81e174b9b2dfb3f82e90c2fba5e28b2080d411fe204f4ce"
  },
  "kernelspec": {
   "display_name": "Python 3.9.7 ('base')",
   "language": "python",
   "name": "python3"
  },
  "language_info": {
   "codemirror_mode": {
    "name": "ipython",
    "version": 3
   },
   "file_extension": ".py",
   "mimetype": "text/x-python",
   "name": "python",
   "nbconvert_exporter": "python",
   "pygments_lexer": "ipython3",
   "version": "3.9.7"
  },
  "orig_nbformat": 4
 },
 "nbformat": 4,
 "nbformat_minor": 2
}
